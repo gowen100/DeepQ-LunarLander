{
 "cells": [
  {
   "cell_type": "code",
   "execution_count": 185,
   "metadata": {},
   "outputs": [],
   "source": [
    "#Imports\n",
    "import tensorflow as tf\n",
    "import numpy as np\n",
    "import pandas as pd\n",
    "from tensorflow.keras import Input\n",
    "\n",
    "from tensorflow.keras.layers import Layer,Lambda\n",
    "from tensorflow.keras.callbacks import Callback\n",
    "from tensorflow.keras.models import Model\n",
    "import matplotlib.pyplot as plt"
   ]
  },
  {
   "cell_type": "code",
   "execution_count": 86,
   "metadata": {},
   "outputs": [],
   "source": [
    "#utility functions\n",
    "# Progress bar function\n",
    "from IPython.display import clear_output\n",
    "def update_progress(progress):\n",
    "    bar_length = 30\n",
    "    if isinstance(progress, int):\n",
    "        progress = float(progress)\n",
    "    if not isinstance(progress, float):\n",
    "        progress = 0\n",
    "    if progress < 0:\n",
    "        progress = 0\n",
    "    if progress >= 1:\n",
    "        progress = 1\n",
    "\n",
    "    block = int(round(bar_length * progress))\n",
    "\n",
    "    clear_output(wait = True)\n",
    "    text = \"Progress: [{0}] {1:.1f}%\".format( \">\" * block + \"-\" * (bar_length - block), progress * 100)\n",
    "    print(text)\n",
    "    \n",
    "    \n",
    "class progress_bar(Callback):\n",
    "    def __init__(self, num_epochs):\n",
    "        self.num_epochs = num_epochs\n",
    "    def on_epoch_end(self, epoch, logs=None):\n",
    "            update_progress((epoch+1)/self.num_epochs)"
   ]
  },
  {
   "cell_type": "code",
   "execution_count": 140,
   "metadata": {},
   "outputs": [
    {
     "data": {
      "text/plain": [
       "(1000, 3)"
      ]
     },
     "execution_count": 140,
     "metadata": {},
     "output_type": "execute_result"
    }
   ],
   "source": [
    "#Set up data\n",
    "x_train1 = np.random.normal(size =1000)\n",
    "x_train2 = np.random.normal(size =1000)\n",
    "x_train3 = np.random.normal(size =1000)\n",
    "\n",
    "x_train = np.stack((x_train1,x_train2,x_train3)).T\n",
    "y_train = x_train1 * 0.5 + x_train2 * 0.3 + x_train3 * 0.2 \n",
    "x_train.shape"
   ]
  },
  {
   "cell_type": "code",
   "execution_count": 220,
   "metadata": {},
   "outputs": [
    {
     "name": "stdout",
     "output_type": "stream",
     "text": [
      "Progress: [>>----------------------------] 6.1%\n",
      "\n",
      "gradients :[0.49999896 0.29999983 0.20000003]\n",
      "intercepts :[-2.2816515e-08 -2.2816515e-08 -2.2816515e-08]\n",
      "\n",
      "Model: \"sequential_61\"\n",
      "_________________________________________________________________\n",
      "Layer (type)                 Output Shape              Param #   \n",
      "=================================================================\n",
      "linear_layer_55 (LinearLayer (None,)                   6         \n",
      "=================================================================\n",
      "Total params: 6\n",
      "Trainable params: 6\n",
      "Non-trainable params: 0\n",
      "_________________________________________________________________\n",
      "None\n"
     ]
    }
   ],
   "source": [
    "class LinearLayer(Layer):\n",
    "    def __init__(self,shape):\n",
    "        super(LinearLayer,self).__init__()\n",
    "        self.m=self.add_weight(shape=shape,initializer='random_normal')\n",
    "        self.b=self.add_weight(shape=shape,initializer='zeros')\n",
    "\n",
    "    def call(self,inputs):\n",
    "        self.add_metric(self.m[0], aggregation='mean', name='m0')\n",
    "        self.add_metric(self.m[1], aggregation='mean', name='m1')\n",
    "        self.add_metric(self.m[2], aggregation='mean', name='m2')\n",
    "        return tf.reduce_sum(self.m*inputs+self.b,axis=1)\n",
    "    \n",
    "linear_regression =LinearLayer(shape=(3,))  \n",
    "\n",
    "model = tf.keras.Sequential([linear_regression])\n",
    "\n",
    "model.compile(optimizer='Adam',loss='mse')\n",
    "\n",
    "num_epochs=1000\n",
    "#define some callbacks\n",
    "progress_bar1 =progress_bar(num_epochs)\n",
    "stop =  tf.keras.callbacks.EarlyStopping(monitor='loss', patience=2)\n",
    "\n",
    "#fit the model\n",
    "history = model.fit(x_train,y_train,epochs=num_epochs,callbacks=[progress_bar1,stop],verbose=False)\n",
    "print('\\ngradients :{}\\nintercepts :{}\\n'.format(linear_regression.m.numpy(),linear_regression.b.numpy()))\n",
    "print(model.summary())\n"
   ]
  },
  {
   "cell_type": "code",
   "execution_count": 168,
   "metadata": {},
   "outputs": [
    {
     "data": {
      "image/png": "[encoded data removed]",
      "text/plain": [
       "<Figure size 432x288 with 1 Axes>"
      ]
     },
     "metadata": {
      "needs_background": "light"
     },
     "output_type": "display_data"
    }
   ],
   "source": [
    "plt.plot(history.history['m0'],label='M0 Value')\n",
    "plt.plot(history.history['m1'],label='M1 Value')\n",
    "plt.plot(history.history['m2'],label='M2 Value')\n",
    "plt.plot(history.history['loss'],label='loss')\n",
    "plt.xlabel(\"epoch\")\n",
    "plt.legend()\n",
    "plt.show()"
   ]
  },
  {
   "cell_type": "code",
   "execution_count": 179,
   "metadata": {},
   "outputs": [
    {
     "data": {
      "text/plain": [
       "<tf.Tensor: shape=(1,), dtype=float32, numpy=array([23.500002], dtype=float32)>"
      ]
     },
     "execution_count": 179,
     "metadata": {},
     "output_type": "execute_result"
    }
   ],
   "source": [
    "model(np.array([[1,10,100]]))"
   ]
  },
  {
   "cell_type": "code",
   "execution_count": 216,
   "metadata": {},
   "outputs": [
    {
     "name": "stdout",
     "output_type": "stream",
     "text": [
      "Progress: [>>----------------------------] 7.0%\n",
      "\n",
      "gradients :[0.49999896 0.29999986 0.20000003]\n",
      "intercepts :[-1.5210407e-08 -1.5210407e-08 -1.5210407e-08]\n",
      "\n",
      "Model: \"my_model_8\"\n",
      "_________________________________________________________________\n",
      "Layer (type)                 Output Shape              Param #   \n",
      "=================================================================\n",
      "linear_layer2_8 (LinearLayer multiple                  4         \n",
      "=================================================================\n",
      "Total params: 4\n",
      "Trainable params: 4\n",
      "Non-trainable params: 0\n",
      "_________________________________________________________________\n",
      "None\n"
     ]
    }
   ],
   "source": [
    "class LinearLayer2(Layer):\n",
    "    def __init__(self):\n",
    "        super(LinearLayer2,self).__init__()\n",
    "        self.m0=self.add_weight(shape=(1,),initializer='random_normal')\n",
    "        self.m1=self.add_weight(shape=(1,),initializer='random_normal')\n",
    "        self.m2=self.add_weight(shape=(1,),initializer='random_normal')\n",
    "        self.b=self.add_weight(shape=(1,),initializer='zeros')\n",
    "\n",
    "    def call(self,inputs):\n",
    "        input1,input2,input3 = inputs\n",
    "        self.add_metric(self.m0, aggregation='mean', name='m0')\n",
    "        self.add_metric(self.m1, aggregation='mean', name='m1')\n",
    "        self.add_metric(self.m2, aggregation='mean', name='m2')\n",
    "        return self.m0*input1+self.m1*input2+self.m2*input3+self.b\n",
    "\n",
    "class MyModel(Model):\n",
    "    def __init__(self):\n",
    "        super(MyModel, self).__init__()\n",
    "        self.layer_1 = LinearLayer2()   \n",
    "        \n",
    "    def call(self, inputs):\n",
    "        # Define forward pass\n",
    "        x=self.layer_1(inputs)\n",
    "        return x\n",
    "\n",
    "model2 = MyModel()\n",
    "\n",
    "model2.compile(optimizer='Adam',loss='mse')\n",
    "\n",
    "num_epochs=1000\n",
    "#define some callbacks\n",
    "progress_bar1 =progress_bar(num_epochs)\n",
    "stop =  tf.keras.callbacks.EarlyStopping(monitor='loss', patience=2)\n",
    "\n",
    "#fit the model\n",
    "history2 = model2.fit([x_train1,x_train2,x_train3],y_train,epochs=num_epochs,callbacks=[progress_bar1,stop],verbose=False)\n",
    "print('\\ngradients :{}\\nintercepts :{}\\n'.format(linear_regression.m.numpy(),linear_regression.b.numpy()))\n",
    "print(model2.summary())"
   ]
  },
  {
   "cell_type": "code",
   "execution_count": 218,
   "metadata": {},
   "outputs": [
    {
     "data": {
      "image/png": "[encoded data removed]",
      "text/plain": [
       "<Figure size 432x288 with 1 Axes>"
      ]
     },
     "metadata": {
      "needs_background": "light"
     },
     "output_type": "display_data"
    }
   ],
   "source": [
    "plt.plot(history2.history['m0'],label='M0 Value')\n",
    "plt.plot(history2.history['m1'],label='M1 Value')\n",
    "plt.plot(history2.history['m2'],label='M2 Value')\n",
    "plt.plot(history2.history['loss'],label='loss')\n",
    "plt.xlabel(\"epoch\")\n",
    "plt.legend()\n",
    "plt.show()"
   ]
  },
  {
   "cell_type": "code",
   "execution_count": 210,
   "metadata": {},
   "outputs": [
    {
     "name": "stdout",
     "output_type": "stream",
     "text": [
      "1 2\n"
     ]
    }
   ],
   "source": []
  },
  {
   "cell_type": "code",
   "execution_count": null,
   "metadata": {},
   "outputs": [],
   "source": []
  }
 ],
 "metadata": {
  "kernelspec": {
   "display_name": "Python 3",
   "language": "python",
   "name": "python3"
  },
  "language_info": {
   "codemirror_mode": {
    "name": "ipython",
    "version": 3
   },
   "file_extension": ".py",
   "mimetype": "text/x-python",
   "name": "python",
   "nbconvert_exporter": "python",
   "pygments_lexer": "ipython3",
   "version": "3.7.6"
  }
 },
 "nbformat": 4,
 "nbformat_minor": 4
}
