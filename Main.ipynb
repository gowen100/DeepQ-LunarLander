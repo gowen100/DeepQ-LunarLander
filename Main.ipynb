{
 "cells": [
  {
   "cell_type": "code",
   "execution_count": 2,
   "metadata": {},
   "outputs": [],
   "source": [
    "from tensorflow.keras.layers import Dense, Activation, Input\n",
    "from tensorflow.keras.models import Sequential,save_model,load_model\n",
    "from tensorflow.keras.optimizers import Adam\n",
    "\n",
    "import time\n",
    "import tensorflow.keras.backend as K\n",
    "import tensorflow as tf\n",
    "import numpy as np\n",
    "import gym\n",
    "import matplotlib.pyplot as plt"
   ]
  },
  {
   "cell_type": "code",
   "execution_count": 6,
   "metadata": {},
   "outputs": [],
   "source": [
    "class ReplayBuffer():\n",
    "    def __init__(self, max_size, input_dims):\n",
    "        self.mem_size = max_size\n",
    "        self.mem_cntr = 0\n",
    "        self.state_memory = np.zeros((self.mem_size, *input_dims), dtype=np.float32)\n",
    "        self.new_state_memory = np.zeros((self.mem_size, *input_dims), dtype=np.float32)\n",
    "        self.action_memory = np.zeros(self.mem_size, dtype=np.int32)\n",
    "        self.reward_memory = np.zeros(self.mem_size, dtype=np.float32)\n",
    "        self.terminal_memory = np.zeros(self.mem_size, dtype=np.int32)\n",
    "\n",
    "    def store_transition(self, state, action, reward, state_, done):\n",
    "        index = self.mem_cntr % self.mem_size\n",
    "        self.state_memory[index] = state\n",
    "        self.new_state_memory[index] = state_\n",
    "        self.reward_memory[index] = reward\n",
    "        self.action_memory[index] = action\n",
    "        self.terminal_memory[index] = 1 - int(done)\n",
    "        self.mem_cntr += 1\n",
    "\n",
    "    def sample_buffer(self, batch_size):\n",
    "        max_mem = min(self.mem_cntr, self.mem_size)\n",
    "        batch = np.random.choice(max_mem, batch_size, replace=False)\n",
    "        states = self.state_memory[batch]\n",
    "        states_ = self.new_state_memory[batch]\n",
    "        rewards = self.reward_memory[batch]\n",
    "        actions = self.action_memory[batch]\n",
    "        terminal = self.terminal_memory[batch]\n",
    "        return states, actions, rewards, states_, terminal\n",
    "\n",
    "def build_dqn(lr, n_actions, input_dims, fc1_dims, fc2_dims):\n",
    "    model = Sequential([\n",
    "        Dense(fc1_dims, activation='relu'),\n",
    "        Dense(fc2_dims, activation='relu'),\n",
    "        Dense(n_actions, activation=None)])\n",
    "    \n",
    "    model.compile(optimizer=Adam(learning_rate=lr), loss='mean_squared_error')\n",
    "    return model\n",
    "\n",
    "class Agent():\n",
    "    def __init__(self, lr, gamma, n_actions, epsilon, batch_size,\n",
    "                input_dims, epsilon_dec=1e-3, epsilon_end=0.01,\n",
    "                mem_size=1000000, fname='dqn_model.h5'):\n",
    "        self.action_space = [i for i in range(n_actions)]\n",
    "        self.gamma = gamma\n",
    "        self.epsilon = epsilon\n",
    "        self.eps_dec = epsilon_dec\n",
    "        self.eps_min = epsilon_end\n",
    "        self.batch_size = batch_size\n",
    "        self.model_file = fname\n",
    "        self.buffer = ReplayBuffer(mem_size, input_dims)\n",
    "        self.q_model = build_dqn(lr, n_actions, input_dims, 256, 256)\n",
    "\n",
    "    def store_transition(self, state, action, reward, new_state, done):\n",
    "        self.buffer.store_transition(state, action, reward, new_state, done)\n",
    "\n",
    "    def choose_action(self, observation):\n",
    "        if np.random.random() < self.epsilon:\n",
    "            action = np.random.choice(self.action_space)\n",
    "        else:\n",
    "            state = np.array([observation])\n",
    "            actions = self.q_model.predict(state)\n",
    "            action = np.argmax(actions)\n",
    "        return action\n",
    "\n",
    "    def learn(self):\n",
    "        if self.buffer.mem_cntr < self.batch_size:\n",
    "            return\n",
    "        states, actions, rewards, states_, dones = self.buffer.sample_buffer(self.batch_size)\n",
    "        q_eval = self.q_model.predict(states)\n",
    "        q_next = self.q_model.predict(states_)\n",
    "        q_target = np.copy(q_eval)\n",
    "        batch_index = np.arange(self.batch_size, dtype=np.int32)\n",
    "        q_target[batch_index, actions] = rewards + self.gamma * np.max(q_next, axis=1)*dones\n",
    "        self.q_model.train_on_batch(states, q_target) #this is the model fit - on only one batch \n",
    "        self.epsilon = self.epsilon - self.eps_dec if self.epsilon > self.eps_min else self.eps_min\n",
    "\n",
    "    def save_model(self):\n",
    "        self.q_model.save(self.model_file)\n",
    "\n",
    "\n",
    "    def load_model(self):\n",
    "        self.q_model = load_model(self.model_file)"
   ]
  },
  {
   "cell_type": "code",
   "execution_count": 7,
   "metadata": {},
   "outputs": [
    {
     "name": "stdout",
     "output_type": "stream",
     "text": [
      "game: 10 last 10 average score -162.87 epsilon 0.01 at 17:05:29 after 2810 loops\n",
      "game: 20 last 10 average score -51.48 epsilon 0.01 at 17:06:07 after 9557 loops\n",
      "game: 30 last 10 average score -75.89 epsilon 0.01 at 17:06:31 after 13904 loops\n",
      "game: 40 last 10 average score -23.52 epsilon 0.01 at 17:06:57 after 18536 loops\n",
      "game: 50 last 10 average score -32.97 epsilon 0.01 at 17:07:34 after 24774 loops\n",
      "game: 60 last 10 average score 63.56 epsilon 0.01 at 17:07:54 after 28354 loops\n",
      "\n",
      "----------Finished !----------\n",
      "Buffer contains 28354 rows\n"
     ]
    },
    {
     "data": {
      "text/plain": [
       "[<matplotlib.lines.Line2D at 0x1cee314fe88>]"
      ]
     },
     "execution_count": 7,
     "metadata": {},
     "output_type": "execute_result"
    },
    {
     "data": {
      "image/png": "[encoded data removed]",
      "text/plain": [
       "<Figure size 432x288 with 1 Axes>"
      ]
     },
     "metadata": {
      "needs_background": "light"
     },
     "output_type": "display_data"
    }
   ],
   "source": [
    "tf.compat.v1.disable_eager_execution()\n",
    "\n",
    "env = gym.make('LunarLander-v2')\n",
    "lr = 0.001\n",
    "n_games = 60\n",
    "report_every = 10\n",
    "filename = 'dqn_model_Latest.h5'\n",
    "\n",
    "agent = Agent(gamma=0.99,\n",
    "              epsilon=1.0, \n",
    "              lr=lr, \n",
    "              input_dims=env.observation_space.shape,\n",
    "              n_actions=env.action_space.n, \n",
    "              mem_size=1000000, \n",
    "              batch_size=64,\n",
    "              epsilon_end=0.01,\n",
    "              fname=filename)\n",
    "scores = []\n",
    "eps_history = []\n",
    "num_loops =0 \n",
    "\n",
    "for i in range(n_games):\n",
    "    done = False\n",
    "    score = 0\n",
    "    observation = env.reset()\n",
    "    while not done:\n",
    "        action = agent.choose_action(observation)\n",
    "        observation_, reward, done, info = env.step(action)\n",
    "        score += reward\n",
    "        agent.store_transition(observation, action, reward, observation_, done)\n",
    "        observation = observation_\n",
    "        agent.learn()\n",
    "        num_loops +=1\n",
    "    eps_history.append(agent.epsilon)\n",
    "    scores.append(score)\n",
    "    if (i+1) % report_every ==0 :\n",
    "        avg_score = np.mean(scores[-report_every:])\n",
    "        print('game: {} last {} average score {:.2f} epsilon {:.2f} at {} after {} loops'.format(i+1,report_every,avg_score, agent.epsilon,time.strftime('%X'),num_loops))\n",
    "\n",
    "print(\"\\n----------Finished !----------\")   \n",
    "print(\"Buffer contains {} rows\".format(agent.buffer.mem_cntr))\n",
    "agent.save_model()\n",
    "\n",
    "fig = plt.figure()\n",
    "ax = fig.add_subplot(111,  axisbelow=True)\n",
    "ax.plot(scores ,label='Score')"
   ]
  },
  {
   "cell_type": "code",
   "execution_count": 22,
   "metadata": {},
   "outputs": [],
   "source": [
    "# lunar lander demo with trained model\n",
    "env = gym.make('LunarLander-v2')\n",
    "observation = env.reset()\n",
    "done = False\n",
    "\n",
    "while not done:\n",
    "    env.render()\n",
    "    action = agent.choose_action(observation)\n",
    "    observation_, reward, done, info = env.step(action)\n",
    "    score += reward\n",
    "    agent.store_transition(observation, action, reward, observation_, done)\n",
    "    observation = observation_\n",
    "env.close()"
   ]
  },
  {
   "cell_type": "code",
   "execution_count": null,
   "metadata": {},
   "outputs": [],
   "source": [
    "# lunar lander demo with trained model but no  Q table\n",
    "\n",
    "import gym\n",
    "env = gym.make('LunarLander-v2')\n",
    "observation = env.reset()\n",
    "done = False\n",
    "\n",
    "\n",
    "agent_loaded =  Agent(gamma=0.99, epsilon=1.0, lr=lr, \n",
    "                input_dims=env.observation_space.shape,\n",
    "                n_actions=env.action_space.n, mem_size=1000000, batch_size=64,\n",
    "                epsilon_end=0.01,fname='dqn_model_Latest.h5')\n",
    "agent_loaded.load_model()\n",
    "\n",
    "while not done:\n",
    "    env.render()\n",
    "    action = agent_loaded.choose_action(observation)\n",
    "    observation_, reward, done, info = env.step(action)\n",
    "    score += reward\n",
    "    agent_loaded.store_transition(observation, action, reward, observation_, done)\n",
    "    observation = observation_\n",
    "    \n",
    "env.close()"
   ]
  },
  {
   "cell_type": "code",
   "execution_count": null,
   "metadata": {},
   "outputs": [],
   "source": [
    "# lunar lander demo with random actions\n",
    "\n",
    "import gym\n",
    "\n",
    "env = gym.make('LunarLander-v2')\n",
    "env.reset()\n",
    "\n",
    "for _ in range(1000):\n",
    "    env.render()\n",
    "    env.step(env.action_space.sample())\n",
    "    \n",
    "env.close()"
   ]
  },
  {
   "cell_type": "code",
   "execution_count": 15,
   "metadata": {},
   "outputs": [
    {
     "name": "stdout",
     "output_type": "stream",
     "text": [
      "26601\n"
     ]
    }
   ],
   "source": []
  },
  {
   "cell_type": "code",
   "execution_count": null,
   "metadata": {},
   "outputs": [],
   "source": []
  }
 ],
 "metadata": {
  "kernelspec": {
   "display_name": "Python 3",
   "language": "python",
   "name": "python3"
  },
  "language_info": {
   "codemirror_mode": {
    "name": "ipython",
    "version": 3
   },
   "file_extension": ".py",
   "mimetype": "text/x-python",
   "name": "python",
   "nbconvert_exporter": "python",
   "pygments_lexer": "ipython3",
   "version": "3.7.7"
  }
 },
 "nbformat": 4,
 "nbformat_minor": 4
}
